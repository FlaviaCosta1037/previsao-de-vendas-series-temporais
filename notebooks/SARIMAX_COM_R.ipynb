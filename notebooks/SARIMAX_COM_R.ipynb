{
  "nbformat": 4,
  "nbformat_minor": 0,
  "metadata": {
    "colab": {
      "provenance": []
    },
    "kernelspec": {
      "name": "python3",
      "display_name": "Python 3"
    },
    "language_info": {
      "name": "python"
    }
  },
  "cells": [
    {
      "cell_type": "markdown",
      "source": [
        "Modelagem SARIMA"
      ],
      "metadata": {
        "id": "RxZJ9WNj5NVN"
      }
    },
    {
      "cell_type": "code",
      "source": [
        "#from google.colab import drive\n",
        "#drive.mount('/content/drive')"
      ],
      "metadata": {
        "id": "T3XxQYQzy8mF"
      },
      "execution_count": null,
      "outputs": []
    },
    {
      "cell_type": "code",
      "execution_count": null,
      "metadata": {
        "colab": {
          "base_uri": "https://localhost:8080/"
        },
        "id": "rRojba3C48wj",
        "outputId": "2183bf08-7f3c-42b5-9e1a-f57fe06de632"
      },
      "outputs": [
        {
          "output_type": "stream",
          "name": "stdout",
          "text": [
            "Requirement already satisfied: rpy2==3.5.0 in /usr/local/lib/python3.11/dist-packages (3.5.0)\n",
            "Requirement already satisfied: cffi>=1.10.0 in /usr/local/lib/python3.11/dist-packages (from rpy2==3.5.0) (1.17.1)\n",
            "Requirement already satisfied: jinja2 in /usr/local/lib/python3.11/dist-packages (from rpy2==3.5.0) (3.1.6)\n",
            "Requirement already satisfied: pytz in /usr/local/lib/python3.11/dist-packages (from rpy2==3.5.0) (2025.2)\n",
            "Requirement already satisfied: tzlocal in /usr/local/lib/python3.11/dist-packages (from rpy2==3.5.0) (5.3.1)\n",
            "Requirement already satisfied: pycparser in /usr/local/lib/python3.11/dist-packages (from cffi>=1.10.0->rpy2==3.5.0) (2.22)\n",
            "Requirement already satisfied: MarkupSafe>=2.0 in /usr/local/lib/python3.11/dist-packages (from jinja2->rpy2==3.5.0) (3.0.2)\n"
          ]
        }
      ],
      "source": [
        "import warnings as warning\n",
        "warning.filterwarnings('ignore')\n",
        "!pip install rpy2==3.5.0\n",
        "%load_ext rpy2.ipython"
      ]
    },
    {
      "cell_type": "code",
      "source": [
        "%%R\n",
        "install.packages('forecast', repos='https://cloud.r-project.org/')"
      ],
      "metadata": {
        "colab": {
          "base_uri": "https://localhost:8080/"
        },
        "id": "RoCCA-__5P7w",
        "outputId": "5bd79682-41e5-4ebc-8797-3fd3a0a2fc5b"
      },
      "execution_count": null,
      "outputs": [
        {
          "output_type": "stream",
          "name": "stderr",
          "text": [
            "WARNING:rpy2.rinterface_lib.callbacks:R[write to console]: Installing package into ‘/usr/local/lib/R/site-library’\n",
            "(as ‘lib’ is unspecified)\n",
            "\n",
            "WARNING:rpy2.rinterface_lib.callbacks:R[write to console]: trying URL 'https://cloud.r-project.org/src/contrib/forecast_8.24.0.tar.gz'\n",
            "\n",
            "WARNING:rpy2.rinterface_lib.callbacks:R[write to console]: Content type 'application/x-gzip'\n",
            "WARNING:rpy2.rinterface_lib.callbacks:R[write to console]:  length 581947 bytes (568 KB)\n",
            "\n",
            "WARNING:rpy2.rinterface_lib.callbacks:R[write to console]: =\n",
            "WARNING:rpy2.rinterface_lib.callbacks:R[write to console]: =\n",
            "WARNING:rpy2.rinterface_lib.callbacks:R[write to console]: =\n",
            "WARNING:rpy2.rinterface_lib.callbacks:R[write to console]: =\n",
            "WARNING:rpy2.rinterface_lib.callbacks:R[write to console]: =\n",
            "WARNING:rpy2.rinterface_lib.callbacks:R[write to console]: =\n",
            "WARNING:rpy2.rinterface_lib.callbacks:R[write to console]: =\n",
            "WARNING:rpy2.rinterface_lib.callbacks:R[write to console]: =\n",
            "WARNING:rpy2.rinterface_lib.callbacks:R[write to console]: =\n",
            "WARNING:rpy2.rinterface_lib.callbacks:R[write to console]: =\n",
            "WARNING:rpy2.rinterface_lib.callbacks:R[write to console]: =\n",
            "WARNING:rpy2.rinterface_lib.callbacks:R[write to console]: =\n",
            "WARNING:rpy2.rinterface_lib.callbacks:R[write to console]: =\n",
            "WARNING:rpy2.rinterface_lib.callbacks:R[write to console]: =\n",
            "WARNING:rpy2.rinterface_lib.callbacks:R[write to console]: =\n",
            "WARNING:rpy2.rinterface_lib.callbacks:R[write to console]: =\n",
            "WARNING:rpy2.rinterface_lib.callbacks:R[write to console]: =\n",
            "WARNING:rpy2.rinterface_lib.callbacks:R[write to console]: =\n",
            "WARNING:rpy2.rinterface_lib.callbacks:R[write to console]: =\n",
            "WARNING:rpy2.rinterface_lib.callbacks:R[write to console]: =\n",
            "WARNING:rpy2.rinterface_lib.callbacks:R[write to console]: =\n",
            "WARNING:rpy2.rinterface_lib.callbacks:R[write to console]: =\n",
            "WARNING:rpy2.rinterface_lib.callbacks:R[write to console]: =\n",
            "WARNING:rpy2.rinterface_lib.callbacks:R[write to console]: =\n",
            "WARNING:rpy2.rinterface_lib.callbacks:R[write to console]: =\n",
            "WARNING:rpy2.rinterface_lib.callbacks:R[write to console]: =\n",
            "WARNING:rpy2.rinterface_lib.callbacks:R[write to console]: =\n",
            "WARNING:rpy2.rinterface_lib.callbacks:R[write to console]: =\n",
            "WARNING:rpy2.rinterface_lib.callbacks:R[write to console]: =\n",
            "WARNING:rpy2.rinterface_lib.callbacks:R[write to console]: =\n",
            "WARNING:rpy2.rinterface_lib.callbacks:R[write to console]: =\n",
            "WARNING:rpy2.rinterface_lib.callbacks:R[write to console]: =\n",
            "WARNING:rpy2.rinterface_lib.callbacks:R[write to console]: =\n",
            "WARNING:rpy2.rinterface_lib.callbacks:R[write to console]: =\n",
            "WARNING:rpy2.rinterface_lib.callbacks:R[write to console]: =\n",
            "WARNING:rpy2.rinterface_lib.callbacks:R[write to console]: =\n",
            "WARNING:rpy2.rinterface_lib.callbacks:R[write to console]: =\n",
            "WARNING:rpy2.rinterface_lib.callbacks:R[write to console]: =\n",
            "WARNING:rpy2.rinterface_lib.callbacks:R[write to console]: =\n",
            "WARNING:rpy2.rinterface_lib.callbacks:R[write to console]: =\n",
            "WARNING:rpy2.rinterface_lib.callbacks:R[write to console]: =\n",
            "WARNING:rpy2.rinterface_lib.callbacks:R[write to console]: =\n",
            "WARNING:rpy2.rinterface_lib.callbacks:R[write to console]: =\n",
            "WARNING:rpy2.rinterface_lib.callbacks:R[write to console]: =\n",
            "WARNING:rpy2.rinterface_lib.callbacks:R[write to console]: =\n",
            "WARNING:rpy2.rinterface_lib.callbacks:R[write to console]: =\n",
            "WARNING:rpy2.rinterface_lib.callbacks:R[write to console]: =\n",
            "WARNING:rpy2.rinterface_lib.callbacks:R[write to console]: =\n",
            "WARNING:rpy2.rinterface_lib.callbacks:R[write to console]: =\n",
            "WARNING:rpy2.rinterface_lib.callbacks:R[write to console]: =\n",
            "WARNING:rpy2.rinterface_lib.callbacks:R[write to console]: \n",
            "\n",
            "WARNING:rpy2.rinterface_lib.callbacks:R[write to console]: downloaded 568 KB\n",
            "\n",
            "\n",
            "WARNING:rpy2.rinterface_lib.callbacks:R[write to console]: \n",
            "\n",
            "WARNING:rpy2.rinterface_lib.callbacks:R[write to console]: \n",
            "WARNING:rpy2.rinterface_lib.callbacks:R[write to console]: The downloaded source packages are in\n",
            "\t‘/tmp/RtmpgECg7P/downloaded_packages’\n",
            "WARNING:rpy2.rinterface_lib.callbacks:R[write to console]: \n",
            "WARNING:rpy2.rinterface_lib.callbacks:R[write to console]: \n",
            "\n"
          ]
        }
      ]
    },
    {
      "cell_type": "markdown",
      "source": [
        "# Imports"
      ],
      "metadata": {
        "id": "QZLlrACIk71b"
      }
    },
    {
      "cell_type": "code",
      "source": [
        "import pandas as pd\n",
        "import rpy2.robjects as r\n",
        "import rpy2.robjects.numpy2ri\n",
        "rpy2.robjects.numpy2ri.activate()\n",
        "import numpy as np\n",
        "from sklearn.metrics import mean_squared_error as mse\n",
        "from sklearn.metrics import mean_squared_error, mean_absolute_error\n",
        "from matplotlib import pyplot as plt\n",
        "import rpy2.robjects as ro\n",
        "from sklearn.preprocessing import StandardScaler\n",
        "\n",
        "\n",
        "trainset=0.60\n",
        "valset = 0.20\n",
        "\n",
        "dimension=12"
      ],
      "metadata": {
        "id": "ssFcynZv7otJ"
      },
      "execution_count": null,
      "outputs": []
    },
    {
      "cell_type": "markdown",
      "source": [
        "# Carga de dados"
      ],
      "metadata": {
        "id": "FeAkx3qqk_bo"
      }
    },
    {
      "cell_type": "code",
      "source": [
        "base='/content/0+12 2025 - LatAm Business Analytics_No links.xlsx'\n",
        "x=pd.read_excel(base)\n"
      ],
      "metadata": {
        "id": "ljicHHTD3HDe"
      },
      "execution_count": null,
      "outputs": []
    },
    {
      "cell_type": "markdown",
      "source": [
        "# Tratamento de dados"
      ],
      "metadata": {
        "id": "ZAL6QHF3lB22"
      }
    },
    {
      "cell_type": "markdown",
      "source": [
        "Tratar colunas com espaços"
      ],
      "metadata": {
        "id": "8nhEC0PYlIW-"
      }
    },
    {
      "cell_type": "code",
      "source": [
        "x.rename(columns=lambda x: x.strip(), inplace=True)"
      ],
      "metadata": {
        "id": "qfms0COJ3UAq"
      },
      "execution_count": null,
      "outputs": []
    },
    {
      "cell_type": "code",
      "source": [
        "x.columns"
      ],
      "metadata": {
        "colab": {
          "base_uri": "https://localhost:8080/"
        },
        "id": "uQiEYpa53IJH",
        "outputId": "287a26f5-ba9d-42c7-ef53-c6bc5ec79306"
      },
      "execution_count": null,
      "outputs": [
        {
          "output_type": "execute_result",
          "data": {
            "text/plain": [
              "Index(['Type', 'YTD', 'Period', 'Year', 'Quarter', 'Month#', 'Month', 'Order',\n",
              "       'Invoice', 'Customer', 'Customer Cluster', 'State', 'Country', 'Geo',\n",
              "       'Region2', 'Region', 'Incoterm', 'RSM', 'REP', 'Business Unit',\n",
              "       'Product Group', 'Product Line', 'Product', 'RTM/NRTM', 'Units',\n",
              "       'Revenue USD', 'Commission USD', 'Other Revenue', 'Bookings',\n",
              "       'Units (Dispenser)', 'FX', 'Aftermarket & Solutions', 'Booking date',\n",
              "       'GM', 'EBIT', 'Revenue BRL', 'GM BRL', 'EBIT BRL', 'Brazil's Region',\n",
              "       'Owner', 'Revenue Dispenser', 'Revenue Dispenser BRL', 'Cost Dispenser',\n",
              "       'Cost Dispenser BRL', 'Base Model', 'Model String', 'EXW Process',\n",
              "       'Ationet', 'Service Contract', 'Intercompany Type', 'Sales Campaing',\n",
              "       'Expopostos', 'RTM', 'Aftermarket & Solutions type', 'Manager'],\n",
              "      dtype='object')"
            ]
          },
          "metadata": {},
          "execution_count": 8
        }
      ]
    },
    {
      "cell_type": "markdown",
      "source": [
        "Filtragem necessária para série"
      ],
      "metadata": {
        "id": "wIrUReRalL_R"
      }
    },
    {
      "cell_type": "code",
      "source": [
        "x = x[x['Type'] == 'ACT'] # Somente faturados\n",
        "x = x[x['Business Unit'] == 'Dispenser']  # Somente dispensers\n",
        "x = x[x['Region2'] == 'Domestic']  # Somente região doméstica\n",
        "x.shape"
      ],
      "metadata": {
        "colab": {
          "base_uri": "https://localhost:8080/"
        },
        "id": "xnaO3nOu3aXq",
        "outputId": "18cc7862-7953-478c-faed-42d611a18600"
      },
      "execution_count": null,
      "outputs": [
        {
          "output_type": "execute_result",
          "data": {
            "text/plain": [
              "(19765, 55)"
            ]
          },
          "metadata": {},
          "execution_count": 9
        }
      ]
    },
    {
      "cell_type": "markdown",
      "source": [
        "Tratamento de valores nulos"
      ],
      "metadata": {
        "id": "0MRHjCJUlUPa"
      }
    },
    {
      "cell_type": "code",
      "source": [
        "x.dropna(subset=['Units', 'Commission USD'], inplace=True)"
      ],
      "metadata": {
        "id": "ELPYNh593e5A"
      },
      "execution_count": null,
      "outputs": []
    },
    {
      "cell_type": "markdown",
      "source": [
        "Regra de negócio para valores positivos"
      ],
      "metadata": {
        "id": "4XOzTMb0lXQX"
      }
    },
    {
      "cell_type": "code",
      "source": [
        "x = x[x['Units'] > 0 ]  # Somente vendas\n",
        "x.shape"
      ],
      "metadata": {
        "colab": {
          "base_uri": "https://localhost:8080/"
        },
        "id": "eNIIR4R43rXZ",
        "outputId": "b7ce78be-aa8f-4249-d1ed-52a8ac6d8bfd"
      },
      "execution_count": null,
      "outputs": [
        {
          "output_type": "execute_result",
          "data": {
            "text/plain": [
              "(18446, 55)"
            ]
          },
          "metadata": {},
          "execution_count": 11
        }
      ]
    },
    {
      "cell_type": "markdown",
      "source": [
        "Criação de uma coluna data para série"
      ],
      "metadata": {
        "id": "Te4xcET2lagM"
      }
    },
    {
      "cell_type": "code",
      "source": [
        "x['Data'] = pd.to_datetime(x['Year'].astype(str) + '-' + x['Month#'].astype(str) + '-01')\n",
        "x['Data'].unique()\n",
        "x.columns"
      ],
      "metadata": {
        "colab": {
          "base_uri": "https://localhost:8080/"
        },
        "id": "32YkX6wX3xlU",
        "outputId": "643b54e6-4dee-4a63-b1bd-eaa6b38d063b"
      },
      "execution_count": null,
      "outputs": [
        {
          "output_type": "execute_result",
          "data": {
            "text/plain": [
              "Index(['Type', 'YTD', 'Period', 'Year', 'Quarter', 'Month#', 'Month', 'Order',\n",
              "       'Invoice', 'Customer', 'Customer Cluster', 'State', 'Country', 'Geo',\n",
              "       'Region2', 'Region', 'Incoterm', 'RSM', 'REP', 'Business Unit',\n",
              "       'Product Group', 'Product Line', 'Product', 'RTM/NRTM', 'Units',\n",
              "       'Revenue USD', 'Commission USD', 'Other Revenue', 'Bookings',\n",
              "       'Units (Dispenser)', 'FX', 'Aftermarket & Solutions', 'Booking date',\n",
              "       'GM', 'EBIT', 'Revenue BRL', 'GM BRL', 'EBIT BRL', 'Brazil's Region',\n",
              "       'Owner', 'Revenue Dispenser', 'Revenue Dispenser BRL', 'Cost Dispenser',\n",
              "       'Cost Dispenser BRL', 'Base Model', 'Model String', 'EXW Process',\n",
              "       'Ationet', 'Service Contract', 'Intercompany Type', 'Sales Campaing',\n",
              "       'Expopostos', 'RTM', 'Aftermarket & Solutions type', 'Manager', 'Data'],\n",
              "      dtype='object')"
            ]
          },
          "metadata": {},
          "execution_count": 12
        }
      ]
    },
    {
      "cell_type": "code",
      "source": [
        "x.columns"
      ],
      "metadata": {
        "colab": {
          "base_uri": "https://localhost:8080/"
        },
        "id": "FbBViRVz4thH",
        "outputId": "764f73c4-1d1b-4960-8795-cf64665d6dd6"
      },
      "execution_count": null,
      "outputs": [
        {
          "output_type": "execute_result",
          "data": {
            "text/plain": [
              "Index(['Type', 'YTD', 'Period', 'Year', 'Quarter', 'Month#', 'Month', 'Order',\n",
              "       'Invoice', 'Customer', 'Customer Cluster', 'State', 'Country', 'Geo',\n",
              "       'Region2', 'Region', 'Incoterm', 'RSM', 'REP', 'Business Unit',\n",
              "       'Product Group', 'Product Line', 'Product', 'RTM/NRTM', 'Units',\n",
              "       'Revenue USD', 'Commission USD', 'Other Revenue', 'Bookings',\n",
              "       'Units (Dispenser)', 'FX', 'Aftermarket & Solutions', 'Booking date',\n",
              "       'GM', 'EBIT', 'Revenue BRL', 'GM BRL', 'EBIT BRL', 'Brazil's Region',\n",
              "       'Owner', 'Revenue Dispenser', 'Revenue Dispenser BRL', 'Cost Dispenser',\n",
              "       'Cost Dispenser BRL', 'Base Model', 'Model String', 'EXW Process',\n",
              "       'Ationet', 'Service Contract', 'Intercompany Type', 'Sales Campaing',\n",
              "       'Expopostos', 'RTM', 'Aftermarket & Solutions type', 'Manager', 'Data'],\n",
              "      dtype='object')"
            ]
          },
          "metadata": {},
          "execution_count": 13
        }
      ]
    },
    {
      "cell_type": "code",
      "source": [
        "print(x.isnull().sum())\n"
      ],
      "metadata": {
        "colab": {
          "base_uri": "https://localhost:8080/"
        },
        "id": "t9_bEJJkzLi3",
        "outputId": "f3316d7b-2521-4693-9212-8bbbd903818e"
      },
      "execution_count": null,
      "outputs": [
        {
          "output_type": "stream",
          "name": "stdout",
          "text": [
            "Type                                0\n",
            "YTD                                 0\n",
            "Period                              0\n",
            "Year                                0\n",
            "Quarter                             0\n",
            "Month#                              0\n",
            "Month                               0\n",
            "Order                               2\n",
            "Invoice                             0\n",
            "Customer                            0\n",
            "Customer Cluster                    0\n",
            "State                               0\n",
            "Country                             0\n",
            "Geo                                 0\n",
            "Region2                             0\n",
            "Region                              0\n",
            "Incoterm                        11657\n",
            "RSM                             11657\n",
            "REP                             18446\n",
            "Business Unit                       0\n",
            "Product Group                       0\n",
            "Product Line                        0\n",
            "Product                             0\n",
            "RTM/NRTM                         5909\n",
            "Units                               0\n",
            "Revenue USD                         0\n",
            "Commission USD                      0\n",
            "Other Revenue                    6406\n",
            "Bookings                        18446\n",
            "Units (Dispenser)                   0\n",
            "FX                                  0\n",
            "Aftermarket & Solutions             0\n",
            "Booking date                        0\n",
            "GM                                  0\n",
            "EBIT                                0\n",
            "Revenue BRL                         0\n",
            "GM BRL                              0\n",
            "EBIT BRL                            0\n",
            "Brazil's Region                     0\n",
            "Owner                               0\n",
            "Revenue Dispenser                   0\n",
            "Revenue Dispenser BRL               0\n",
            "Cost Dispenser                      0\n",
            "Cost Dispenser BRL                  0\n",
            "Base Model                        267\n",
            "Model String                      267\n",
            "EXW Process                     18439\n",
            "Ationet                         18446\n",
            "Service Contract                18446\n",
            "Intercompany Type               18446\n",
            "Sales Campaing                  15656\n",
            "Expopostos                      17148\n",
            "RTM                             16190\n",
            "Aftermarket & Solutions type    18446\n",
            "Manager                             0\n",
            "Data                                0\n",
            "peso_campanha                       0\n",
            "dtype: int64\n"
          ]
        }
      ]
    },
    {
      "cell_type": "markdown",
      "source": [
        "Identificação de campanha de vendas"
      ],
      "metadata": {
        "id": "yx8dlccJlowc"
      }
    },
    {
      "cell_type": "code",
      "source": [
        "campanha = x['Sales Campaing'].unique()\n",
        "print(campanha)"
      ],
      "metadata": {
        "colab": {
          "base_uri": "https://localhost:8080/"
        },
        "id": "S0RpbuqaTwjl",
        "outputId": "e2a4452a-5097-4f57-f0ed-b6181b333c83"
      },
      "execution_count": null,
      "outputs": [
        {
          "output_type": "stream",
          "name": "stdout",
          "text": [
            "[nan 'CONV. VIBRA 2025' 'CONV. IPIRANGA 2025' 'Expopostos 2024'\n",
            " 'Expopostos 2022' 'CONV. VIBRA' 'CONV. IPIRANGA' 'CONV. SHELL'\n",
            " 'CAMPANHA JUN A SET' 'CAMPEÕES DO RTM' 'FELIZ BOMBA NOVA' 'RTM 2024'\n",
            " 'CONV. VIBRA 2024' 'CONV. IPIRANGA 2024' 'CONV. RAIZEN 2024'\n",
            " 'Nordeste 2024' 'RS 2024' 'Vista 2024' 'Campanha vibra 24'\n",
            " 'FEIRAO DE FABRICA']\n"
          ]
        }
      ]
    },
    {
      "cell_type": "code",
      "source": [
        "# Dicionário de pesos das campanhas\n",
        "pesos_campanhas = {\n",
        "    'CONV. VIBRA 2025': 6,\n",
        "    'CONV. IPIRANGA 2025': 6,\n",
        "    'Expopostos 2024': 10,\n",
        "    'Expopostos 2022': 10,\n",
        "    'CONV. VIBRA': 6,\n",
        "    'CONV. IPIRANGA': 6,\n",
        "    'CONV. SHELL': 6,\n",
        "    'CAMPANHA JUN A SET': 7,\n",
        "    'CAMPEÕES DO RTM': 3,\n",
        "    'FELIZ BOMBA NOVA': 3,\n",
        "    'RTM 2024': 3,\n",
        "    'CONV. VIBRA 2024': 6,\n",
        "    'CONV. IPIRANGA 2024': 6,\n",
        "    'CONV. RAIZEN 2024': 6,\n",
        "    'Nordeste 2024': 4,\n",
        "    'RS 2024': 4,\n",
        "    'Vista 2024': 3,\n",
        "    'Campanha vibra 24': 3,\n",
        "    'FEIRAO DE FABRICA': 3,\n",
        "    np.nan: 0.1\n",
        "}\n"
      ],
      "metadata": {
        "id": "R288A9KNTVwx"
      },
      "execution_count": null,
      "outputs": []
    },
    {
      "cell_type": "markdown",
      "source": [
        "Criação de coluna de peso de campanha"
      ],
      "metadata": {
        "id": "uJYIqa7hlwdq"
      }
    },
    {
      "cell_type": "code",
      "source": [
        "x['peso_campanha'] = x['Sales Campaing'].map(pesos_campanhas).fillna(0)"
      ],
      "metadata": {
        "id": "wzppsXYRVL8d"
      },
      "execution_count": null,
      "outputs": []
    },
    {
      "cell_type": "code",
      "source": [
        "x.columns"
      ],
      "metadata": {
        "colab": {
          "base_uri": "https://localhost:8080/"
        },
        "id": "KObtI54CVPGA",
        "outputId": "e91e90e2-eb36-4b56-d4fa-388d99026e97"
      },
      "execution_count": null,
      "outputs": [
        {
          "output_type": "execute_result",
          "data": {
            "text/plain": [
              "Index(['Type', 'YTD', 'Period', 'Year', 'Quarter', 'Month#', 'Month', 'Order',\n",
              "       'Invoice', 'Customer', 'Customer Cluster', 'State', 'Country', 'Geo',\n",
              "       'Region2', 'Region', 'Incoterm', 'RSM', 'REP', 'Business Unit',\n",
              "       'Product Group', 'Product Line', 'Product', 'RTM/NRTM', 'Units',\n",
              "       'Revenue USD', 'Commission USD', 'Other Revenue', 'Bookings',\n",
              "       'Units (Dispenser)', 'FX', 'Aftermarket & Solutions', 'Booking date',\n",
              "       'GM', 'EBIT', 'Revenue BRL', 'GM BRL', 'EBIT BRL', 'Brazil's Region',\n",
              "       'Owner', 'Revenue Dispenser', 'Revenue Dispenser BRL', 'Cost Dispenser',\n",
              "       'Cost Dispenser BRL', 'Base Model', 'Model String', 'EXW Process',\n",
              "       'Ationet', 'Service Contract', 'Intercompany Type', 'Sales Campaing',\n",
              "       'Expopostos', 'RTM', 'Aftermarket & Solutions type', 'Manager', 'Data',\n",
              "       'peso_campanha'],\n",
              "      dtype='object')"
            ]
          },
          "metadata": {},
          "execution_count": 18
        }
      ]
    },
    {
      "cell_type": "markdown",
      "source": [
        "Agrupamento de variáveis target e exógenas"
      ],
      "metadata": {
        "id": "ABsyb0gIlzeo"
      }
    },
    {
      "cell_type": "code",
      "source": [
        "x_grouped = x.groupby(pd.Grouper(key='Data', freq='MS')).agg({\n",
        "    'Units': 'sum',\n",
        "    'Commission USD': 'sum',\n",
        "    'peso_campanha': 'sum'\n",
        "}).reset_index()"
      ],
      "metadata": {
        "id": "uvxKbIxD1P45"
      },
      "execution_count": null,
      "outputs": []
    },
    {
      "cell_type": "code",
      "source": [
        "data = x_grouped['Units'].values"
      ],
      "metadata": {
        "id": "fB8jiLJv1Tx9"
      },
      "execution_count": null,
      "outputs": []
    },
    {
      "cell_type": "code",
      "source": [
        "print(data)"
      ],
      "metadata": {
        "colab": {
          "base_uri": "https://localhost:8080/"
        },
        "id": "x65A0rrr1YhB",
        "outputId": "4c443a5f-f5ee-4f7f-8965-64da3789643c"
      },
      "execution_count": null,
      "outputs": [
        {
          "output_type": "stream",
          "name": "stdout",
          "text": [
            "[389. 650. 501. 857. 643. 473. 564. 383. 845. 542. 635. 496. 451. 230.\n",
            " 369. 400. 241. 174. 409. 454. 420. 225. 419. 208. 449. 858. 485. 306.\n",
            " 351. 403. 345. 477. 331. 179. 166. 412. 367. 151. 322. 263. 224. 284.\n",
            " 272. 287. 337. 471. 428. 352. 658. 318. 512. 267.  68. 124. 294. 456.\n",
            " 463. 367. 386. 281. 342. 314. 344. 409. 302. 312. 261. 399. 352. 489.\n",
            " 522. 442. 386. 323. 259. 277. 380.]\n"
          ]
        }
      ]
    },
    {
      "cell_type": "markdown",
      "source": [
        "# Modelagem"
      ],
      "metadata": {
        "id": "0ivL1Xpsl6uK"
      }
    },
    {
      "cell_type": "code",
      "source": [
        "sarima_train=data[:np.int32(np.floor(trainset*(len(data))))]\n",
        "sarima_val = data[len(sarima_train):len(sarima_train)+np.int32(np.floor(valset*(len(data))))]\n",
        "sarima_test=data[len(sarima_train)+np.int32(np.floor(valset*(len(data)))):]\n",
        "\n",
        "trainSize = len(sarima_train)\n",
        "valSize = len(sarima_val)\n",
        "testIndex=trainSize+valSize\n",
        "dataSize=len(data)\n",
        "\n",
        "#Funções da bibilioteca em R sendo armazenadas em variáveis\n",
        "r.r('library(forecast)')\n",
        "colnames=r.r('colnames')\n",
        "arima = r.r('auto.arima')\n",
        "arimaTest = r.r('Arima')\n",
        "ordem = r.r('cbind')\n",
        "fitted = r.r('fitted')\n",
        "forecast = r.r('forecast')\n",
        "arimaorder = r.r('arimaorder')\n",
        "ts = r.r('ts')\n",
        "\n",
        "exog_1 = x_grouped['Commission USD'].values\n",
        "exog_2 = x_grouped['peso_campanha'].values"
      ],
      "metadata": {
        "id": "dvvBq_eQ7zRk",
        "colab": {
          "base_uri": "https://localhost:8080/"
        },
        "outputId": "3ccdfc8b-d8d0-43b0-b731-8621449e6836"
      },
      "execution_count": null,
      "outputs": [
        {
          "output_type": "stream",
          "name": "stderr",
          "text": [
            "WARNING:rpy2.rinterface_lib.callbacks:R[write to console]: Registered S3 method overwritten by 'quantmod':\n",
            "  method            from\n",
            "  as.zoo.data.frame zoo \n",
            "\n",
            "WARNING:rpy2.rinterface_lib.callbacks:R[write to console]: This is forecast 8.24.0 \n",
            "  Want to stay up-to-date? Read the Hyndsight blog:\n",
            "  https://robjhyndman.com/hyndsight/\n",
            "\n"
          ]
        }
      ]
    },
    {
      "cell_type": "code",
      "source": [
        "print(exog_1)"
      ],
      "metadata": {
        "colab": {
          "base_uri": "https://localhost:8080/"
        },
        "id": "XIrlGXqTQXP1",
        "outputId": "23bd2b0c-9b05-4ff1-cdc9-7cab5b66099c"
      },
      "execution_count": null,
      "outputs": [
        {
          "output_type": "stream",
          "name": "stdout",
          "text": [
            "[ 37936.69013172  75985.01554534  55193.42470905  64269.7214251\n",
            "  61143.0032564   61600.8862679   58846.3132641   85516.0918917\n",
            " 110979.52780748 160147.07399552 140269.31939203 100864.67416949\n",
            "  67418.9843084   48591.17425352  41576.12437155  25021.11769738\n",
            "  69962.60340913  30282.47611624  24488.57826733  53138.9549909\n",
            "  80490.50642244   9548.02438761  53342.9325635   35390.71708144\n",
            "  56623.15783056  85176.41566567  66941.15078463  41949.21615832\n",
            "  51134.56430837  60749.00422198  78838.81150067  93966.15991548\n",
            "  79620.58313886  23508.8198339   22295.876094    94890.77995039\n",
            "  43879.21896627  23621.80384611  17682.98067784  57031.49238821\n",
            "  31270.36136494  50571.88403176  42469.27743356  22815.37740942\n",
            " 108902.16337498  79955.18047282  95615.7423599   82599.54969894\n",
            " 114205.         133541.         223755.          76722.\n",
            "  53325.          24620.         151652.         168785.\n",
            " 213819.         170411.         247379.          95436.\n",
            "  58042.          98582.         122778.         183042.\n",
            " 101658.          87564.         121821.         131468.\n",
            "  93869.         190596.         249148.         169915.\n",
            " 142825.          87010.         128045.          75834.\n",
            " 117516.        ]\n"
          ]
        }
      ]
    },
    {
      "cell_type": "code",
      "source": [
        "print(exog_2)"
      ],
      "metadata": {
        "colab": {
          "base_uri": "https://localhost:8080/"
        },
        "id": "DhT1TY3DVxRt",
        "outputId": "5ac03f3a-0b5b-4731-e191-c17ad5508c24"
      },
      "execution_count": null,
      "outputs": [
        {
          "output_type": "stream",
          "name": "stdout",
          "text": [
            "[  23.9   37.3   26.9   39.3   26.8   32.    37.5   22.8   58.7   35.9\n",
            "   40.1   34.7   26.1   15.6   14.8   13.2   17.2   12.2   29.6   30.6\n",
            "   26.6   13.4   17.3    8.1   24.8   28.4   24.3   21.2   23.8   20.4\n",
            "   25.    31.8   22.8   13.1   11.9   28.8   24.5    9.9   22.    12.9\n",
            "   17.7   18.6   17.7   18.6 1231.9 2140.3 1948.5  419.3   90.4   51.3\n",
            "   31.3   37.3   24.   125.5  215.7  424.8 1005.2  985.1  526.7  270.\n",
            "  379.5  411.1  365.8  486.8  270.2  185.6  242.8  321.1  264.  2133.3\n",
            " 3063.1 1404.2  383.6  320.6  175.1  176.1  107.6]\n"
          ]
        }
      ]
    },
    {
      "cell_type": "code",
      "source": [
        "# Tratar variáveis constantes antes do scaler\n",
        "if np.std(exog_1) == 0:\n",
        "    exog_scaled_1 = np.zeros_like(exog_1)\n",
        "else:\n",
        "    exog_scaled_1 = StandardScaler().fit_transform(exog_1.reshape(-1,1)).flatten()\n",
        "\n",
        "if np.std(exog_2) == 0:\n",
        "    exog_scaled_2 = np.zeros_like(exog_2)\n",
        "else:\n",
        "    exog_scaled_2 = StandardScaler().fit_transform(exog_2.reshape(-1,1)).flatten()\n",
        "\n"
      ],
      "metadata": {
        "id": "duZLOFB3jIZ-"
      },
      "execution_count": null,
      "outputs": []
    },
    {
      "cell_type": "code",
      "source": [
        "# Testar com variáveis logarítmicas\n",
        "exog_log_1 = np.log(exog_1)\n",
        "print(exog_log_1)\n",
        "\n",
        "exog_log_2 = np.log(exog_2)\n",
        "print(exog_log_2)"
      ],
      "metadata": {
        "colab": {
          "base_uri": "https://localhost:8080/"
        },
        "id": "4fDLqZsGGpeD",
        "outputId": "e49c80e8-f195-46cc-f2ef-c6f2aa68c818"
      },
      "execution_count": null,
      "outputs": [
        {
          "output_type": "stream",
          "name": "stdout",
          "text": [
            "[10.543674   11.23829144 10.91859911 11.0708439  11.02097072 11.02843154\n",
            " 10.98268446 11.35645985 11.61710103 11.98384788 11.85131956 11.52153504\n",
            " 11.11868192 10.79119719 10.63528135 10.12747546 11.15571614 10.31832448\n",
            " 10.10596209 10.88066555 11.29589452  9.16408954 10.88449677 10.47420484\n",
            " 10.94417333 11.35247986 11.11156917 10.64421503 10.84221595 11.01450597\n",
            " 11.27516069 11.45069    11.28502792 10.06513094 10.01215701 11.46048182\n",
            " 10.68919611 10.06992546  9.78035791 10.95135889 10.35042601 10.83115105\n",
            " 10.65653621 10.03519004 11.59820517 11.28922151 11.46809275 11.32175951\n",
            " 11.64575036 11.80216383 12.31830698 11.24794378 10.88416054 10.1113144\n",
            " 11.9293437  12.03638099 12.27288514 12.04596845 12.41867685 11.46621114\n",
            " 10.96892217 11.49864397 11.71813313 12.11747091 11.52936952 11.38012523\n",
            " 11.71030803 11.78651875 11.44965547 12.15791128 12.42580238 12.04305359\n",
            " 11.86937538 11.37377833 11.76013704 11.23630202 11.67432977]\n",
            "[3.17387846 3.61899333 3.29212629 3.67122452 3.28840189 3.4657359\n",
            " 3.62434093 3.12676054 4.07243973 3.5807373  3.69137633 3.54673969\n",
            " 3.26193531 2.74727091 2.69462718 2.58021683 2.84490938 2.50143595\n",
            " 3.38777436 3.42100001 3.28091122 2.59525471 2.8507065  2.09186406\n",
            " 3.21084365 3.34638915 3.19047635 3.05400118 3.16968558 3.0155349\n",
            " 3.21887582 3.45946629 3.12676054 2.57261223 2.4765384  3.36037539\n",
            " 3.19867312 2.29253476 3.09104245 2.55722731 2.87356464 2.92316158\n",
            " 2.87356464 2.92316158 7.11631297 7.66870129 7.57481512 6.03858665\n",
            " 4.50424427 3.93769075 3.4436181  3.61899333 3.17805383 4.83230576\n",
            " 5.37388855 6.05161847 6.91294181 6.89274316 6.26663113 5.59842196\n",
            " 5.9388546  6.01883649 5.90208674 6.18785336 5.59916243 5.22359382\n",
            " 5.49223806 5.7717526  5.5759491  7.66542536 8.02718275 7.24722302\n",
            " 5.94960034 5.77019424 5.16535724 5.17105202 4.67842065]\n"
          ]
        }
      ]
    },
    {
      "cell_type": "markdown",
      "source": [
        "Código com possibilidade de teste para duas variáveis exógenas - logaritmicas ou scalar"
      ],
      "metadata": {
        "id": "ibPeY3kumCbZ"
      }
    },
    {
      "cell_type": "code",
      "source": [
        "# organizar as variáveis exógenas em um listvector do R\n",
        "\n",
        "xreg=ordem(exog_log_1[:trainSize],exog_2[:trainSize])\n",
        "\n",
        "xregVal=ordem(exog_log_1[trainSize:testIndex],exog_2[trainSize:testIndex])\n",
        "\n",
        "xregTest=ordem(exog_log_1[testIndex:],exog_2[testIndex:])\n",
        "\n",
        "# treinar o modelo arima, passando como argumento as variáveis exógenas\n",
        "mdl_arimax_treino = arima(np.array(sarima_train),xreg=xreg)\n",
        "fit_Arimax_Val = arimaTest(np.array(sarima_val),xreg=xregVal,model=mdl_arimax_treino)\n",
        "fit_Arimax_Test = arimaTest(np.array(sarima_test),xreg=xregTest,model=mdl_arimax_treino)\n",
        "\n",
        "\n",
        "# Informar ao modelo que é uma série sazonal com frequencia 12\n",
        "sarimax_train = ts(np.array(sarima_train),frequency=dimension)\n",
        "sarimax_val = ts(np.array(sarima_val),frequency=dimension)\n",
        "sarimax_test = ts(np.array(sarima_test),frequency=dimension)\n",
        "\n",
        "trainSize = len(sarima_train)\n",
        "valSize = len(sarima_val)\n",
        "testIndex=trainSize+valSize\n",
        "dataSize=len(data)\n",
        "\n",
        "#O modelo SARIMA, pode produzir um modelo ARIMA.\n",
        "\n",
        "mdl_sarima = arima(sarima_train, xreg=xreg)"
      ],
      "metadata": {
        "id": "pirrLbvZGyGn"
      },
      "execution_count": null,
      "outputs": []
    },
    {
      "cell_type": "code",
      "source": [
        "mdl_sarima_auto = arima(sarima_train, seasonal=True, stepwise=True, approximation=False)\n",
        "print(arimaorder(mdl_sarima_auto))  # Isso te dá [p,d,q,P,D,Q]"
      ],
      "metadata": {
        "colab": {
          "base_uri": "https://localhost:8080/"
        },
        "id": "_k94SvQI8AnG",
        "outputId": "06180b0c-2646-4370-d47e-47279fcd7766"
      },
      "execution_count": null,
      "outputs": [
        {
          "output_type": "stream",
          "name": "stdout",
          "text": [
            "[0 1 1]\n"
          ]
        }
      ]
    },
    {
      "cell_type": "markdown",
      "source": [
        "Teste com parametros manuais"
      ],
      "metadata": {
        "id": "hXi95mOmmLAF"
      }
    },
    {
      "cell_type": "code",
      "source": [
        "\n",
        "# Ajuste manual dos parametros p, d, q P, D, Q\n",
        "mdl_sarima = arimaTest(\n",
        "    sarima_train,\n",
        "    xreg=xreg,\n",
        "    order=ro.IntVector([4, 1, 4]),  # ARIMA(p,d,q)\n",
        "    seasonal=ro.ListVector({\n",
        "        'order': ro.IntVector([1, 1, 2]),  # SARIMA(P,D,Q)\n",
        "        'period': ro.IntVector([dimension])  # período sazonal\n",
        "    }),\n",
        "    method=\"ML\"\n",
        ")"
      ],
      "metadata": {
        "id": "dZzjjv3y8BIm"
      },
      "execution_count": null,
      "outputs": []
    },
    {
      "cell_type": "code",
      "source": [
        "len(mdl_sarima)"
      ],
      "metadata": {
        "colab": {
          "base_uri": "https://localhost:8080/"
        },
        "id": "ZbcgrrQl_y2E",
        "outputId": "f5a2a70f-06cd-4ccf-ccef-43eb28cad28a"
      },
      "execution_count": null,
      "outputs": [
        {
          "output_type": "execute_result",
          "data": {
            "text/plain": [
              "19"
            ]
          },
          "metadata": {},
          "execution_count": 110
        }
      ]
    },
    {
      "cell_type": "code",
      "source": [
        "# Ober as previsões de um passo à frente com o ARIMA\n",
        "fitTreinoSarimax = arimaTest(sarima_train,xreg=xreg,model=mdl_sarima)\n",
        "fitValidSarimax = arimaTest(sarima_val,xreg=xregVal,model=mdl_sarima)\n",
        "fitTesteSarimax = arimaTest(sarima_test,xreg=xregTest,model=mdl_sarima)\n",
        "\n",
        "predSarimaxTreino = fitted(fitTreinoSarimax)\n",
        "predSarimaxVal = fitted(fitValidSarimax)\n",
        "predSarimaxTest = fitted(fitTesteSarimax)\n",
        "\n",
        "#plt.figure(figsize=(12, 6))\n",
        "plt.plot(sarimax_test, color='blue')\n",
        "plt.plot(predSarimaxTest, color='red')\n",
        "plt.legend(['Real', 'Previsto'])\n",
        "plt.grid(True)\n",
        "plt.title('Treino com SARIMAX - R (2 exogs) - Automático')\n",
        "plt.show()\n",
        "\n"
      ],
      "metadata": {
        "colab": {
          "base_uri": "https://localhost:8080/",
          "height": 453
        },
        "id": "rM03Bd9x5SJK",
        "outputId": "dc4fe2c2-f7a7-4443-fbbd-7bcb8aa7604c"
      },
      "execution_count": null,
      "outputs": [
        {
          "output_type": "display_data",
          "data": {
            "text/plain": [
              "<Figure size 640x480 with 1 Axes>"
            ],
            "image/png": "[encoded data removed]"
          },
          "metadata": {}
        }
      ]
    },
    {
      "cell_type": "code",
      "source": [
        "# Ober as previsões de um passo à frente com o ARIMA\n",
        "fitTreinoSarimax = arimaTest(sarima_train,xreg=xreg,model=mdl_sarima)\n",
        "fitValidSarimax = arimaTest(sarima_val,xreg=xregVal,model=mdl_sarima)\n",
        "fitTesteSarimax = arimaTest(sarima_test,xreg=xregTest,model=mdl_sarima)\n",
        "\n",
        "predSarimaxTreino = fitted(fitTreinoSarimax)\n",
        "predSarimaxVal = fitted(fitValidSarimax)\n",
        "predSarimaxTest = fitted(fitTesteSarimax)\n",
        "\n",
        "\n",
        "plt.plot(sarimax_train, color='blue')\n",
        "plt.plot(predSarimaxTreino, color = 'red')\n",
        "plt.legend(['Real','Previsto'])\n",
        "plt.title('Teste com SARIMAX - R (2 exogs) - Automático')\n",
        "plt.grid(True)\n",
        "plt.show()"
      ],
      "metadata": {
        "colab": {
          "base_uri": "https://localhost:8080/",
          "height": 453
        },
        "id": "IJQoqGuk9Imj",
        "outputId": "7a81bdc8-2658-4696-d98f-cf56b247ebaf"
      },
      "execution_count": null,
      "outputs": [
        {
          "output_type": "display_data",
          "data": {
            "text/plain": [
              "<Figure size 640x480 with 1 Axes>"
            ],
            "image/png": "[encoded data removed]"
          },
          "metadata": {}
        }
      ]
    },
    {
      "cell_type": "code",
      "source": [
        "from sklearn.metrics import mean_squared_error as mse\n",
        "from sklearn.metrics import mean_absolute_error as mae\n",
        "from sklearn.metrics import mean_absolute_percentage_error as mape\n",
        "import numpy as np\n",
        "import pandas as pd\n",
        "\n",
        "# ----------------- Cálculo dos erros -----------------\n",
        "\n",
        "# VALIDAÇÃO\n",
        "mseValSarima = mse(sarimax_val, predSarimaxVal)\n",
        "maeValSarima = mae(sarimax_val, predSarimaxVal)\n",
        "rmseValSarima = np.sqrt(mseValSarima)\n",
        "mapeValSarima = mape(sarimax_val, predSarimaxVal) * 100\n",
        "\n",
        "# TESTE\n",
        "mseTestSarima = mse(sarimax_test, predSarimaxTest)\n",
        "maeTestSarima = mae(sarimax_test, predSarimaxTest)\n",
        "rmseTestSarima = np.sqrt(mseTestSarima)\n",
        "mapeTestSarima = mape(sarimax_test, predSarimaxTest) * 100\n",
        "\n",
        "# ----------------- Organização dos resultados -----------------\n",
        "\n",
        "my_results = pd.DataFrame({\n",
        "    'MSE': [mseValSarima, mseTestSarima],\n",
        "    'RMSE': [rmseValSarima, rmseTestSarima],\n",
        "    'MAE': [maeValSarima, maeTestSarima],\n",
        "    'MAPE': [mapeValSarima, mapeTestSarima]\n",
        "}, index=['Validação', 'Teste'])\n",
        "\n",
        "# ----------------- Formatação amigável -----------------\n",
        "\n",
        "my_results_formatted = my_results.copy()\n",
        "my_results_formatted['MSE'] = my_results['MSE'].apply(lambda x: f\"{x:,.2f}\")\n",
        "my_results_formatted['RMSE'] = my_results['RMSE'].apply(lambda x: f\"{x:,.2f}\")\n",
        "my_results_formatted['MAE'] = my_results['MAE'].apply(lambda x: f\"{x:,.2f}\")\n",
        "my_results_formatted['MAPE'] = my_results['MAPE'].apply(lambda x: f\"{x:.2f}%\")\n",
        "\n",
        "# ----------------- Exibição -----------------\n",
        "\n",
        "print(my_results_formatted)\n"
      ],
      "metadata": {
        "colab": {
          "base_uri": "https://localhost:8080/"
        },
        "id": "ea-FvX81n9My",
        "outputId": "9d9de0b5-80e4-4fa9-caca-da8631c95658"
      },
      "execution_count": null,
      "outputs": [
        {
          "output_type": "stream",
          "name": "stdout",
          "text": [
            "                 MSE    RMSE    MAE    MAPE\n",
            "Validação  12,359.71  111.17  82.80  41.36%\n",
            "Teste       1,873.97   43.29  29.53   9.15%\n"
          ]
        }
      ]
    },
    {
      "cell_type": "code",
      "source": [
        "media = np.mean(exog_scaled_1[-19:])\n",
        "print(\"Média dos últimos 19 exog:\", media)\n",
        "print(\"Últimos valores do target (sarima_train):\", sarima_train[-3:])\n"
      ],
      "metadata": {
        "colab": {
          "base_uri": "https://localhost:8080/"
        },
        "id": "ElGAYWKsEC4U",
        "outputId": "28374581-adf3-4eba-8888-2f4ae37379da"
      },
      "execution_count": null,
      "outputs": [
        {
          "output_type": "stream",
          "name": "stdout",
          "text": [
            "Média dos últimos 19 exog: 0.7967731194121567\n",
            "Últimos valores do target (sarima_train): [287. 337. 471.]\n"
          ]
        }
      ]
    },
    {
      "cell_type": "markdown",
      "source": [
        "Previsão com h passos à frente"
      ],
      "metadata": {
        "id": "Fmbm6Cc15XlU"
      }
    },
    {
      "cell_type": "code",
      "source": [
        "# Supondo exog_1 e exog_2 com dados futuros alinhados\n",
        "exog_1_futuro = exog_log_1[-3:]\n",
        "exog_2_futuro = exog_2[-3:]\n",
        "\n",
        "# Combina as duas colunas no padrão do R\n",
        "xreg_futuro = ordem(exog_1_futuro, exog_2_futuro)\n",
        "\n",
        "# Faz a previsão\n",
        "forecast_ahead = forecast(mdl_sarima, h=3, xreg=xreg_futuro)\n",
        "preds_ahead = np.array(forecast_ahead[3], dtype=float)\n",
        "\n",
        "plt.plot(range(0,len(sarimax_train)),sarimax_train, color='blue')\n",
        "plt.plot(range(len(sarimax_train),len(sarimax_train)+3),preds_ahead, color='red')\n",
        "plt.legend(['Real','Previsto'])\n",
        "plt.grid(True)\n",
        "plt.show()"
      ],
      "metadata": {
        "colab": {
          "base_uri": "https://localhost:8080/",
          "height": 430
        },
        "id": "dp5rJrNv5VFG",
        "outputId": "c7ba0989-09ef-413b-cced-56d2b84ad43e"
      },
      "execution_count": null,
      "outputs": [
        {
          "output_type": "display_data",
          "data": {
            "text/plain": [
              "<Figure size 640x480 with 1 Axes>"
            ],
            "image/png": "[encoded data removed]"
          },
          "metadata": {}
        }
      ]
    },
    {
      "cell_type": "code",
      "source": [
        "print('Previsão (preds_ahead)', [f'{abs(int(x))}' for x in preds_ahead])"
      ],
      "metadata": {
        "colab": {
          "base_uri": "https://localhost:8080/"
        },
        "id": "UhNBF6Fqq1ct",
        "outputId": "3fda826e-7a96-408c-e5ef-6f32bfc92ab1"
      },
      "execution_count": null,
      "outputs": [
        {
          "output_type": "stream",
          "name": "stdout",
          "text": [
            "Previsão (preds_ahead) ['452', '378', '439']\n"
          ]
        }
      ]
    }
  ]
}